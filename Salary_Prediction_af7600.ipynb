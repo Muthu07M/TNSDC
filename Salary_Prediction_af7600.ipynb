{
  "metadata": {
    "kernelspec": {
      "language": "python",
      "display_name": "Python 3",
      "name": "python3"
    },
    "language_info": {
      "name": "python",
      "version": "3.7.12",
      "mimetype": "text/x-python",
      "codemirror_mode": {
        "name": "ipython",
        "version": 3
      },
      "pygments_lexer": "ipython3",
      "nbconvert_exporter": "python",
      "file_extension": ".py"
    },
    "kaggle": {
      "accelerator": "none",
      "dataSources": [
        {
          "sourceId": 2051101,
          "sourceType": "datasetVersion",
          "datasetId": 1228819
        }
      ],
      "dockerImageVersionId": 30207,
      "isInternetEnabled": false,
      "language": "python",
      "sourceType": "notebook",
      "isGpuEnabled": false
    },
    "colab": {
      "name": "Salary Prediction af7600",
      "provenance": []
    }
  },
  "nbformat_minor": 0,
  "nbformat": 4,
  "cells": [
    {
      "source": [
        "\n",
        "# IMPORTANT: RUN THIS CELL IN ORDER TO IMPORT YOUR KAGGLE DATA SOURCES\n",
        "# TO THE CORRECT LOCATION (/kaggle/input) IN YOUR NOTEBOOK,\n",
        "# THEN FEEL FREE TO DELETE THIS CELL.\n",
        "# NOTE: THIS NOTEBOOK ENVIRONMENT DIFFERS FROM KAGGLE'S PYTHON\n",
        "# ENVIRONMENT SO THERE MAY BE MISSING LIBRARIES USED BY YOUR\n",
        "# NOTEBOOK.\n",
        "\n",
        "import os\n",
        "import sys\n",
        "from tempfile import NamedTemporaryFile\n",
        "from urllib.request import urlopen\n",
        "from urllib.parse import unquote, urlparse\n",
        "from urllib.error import HTTPError\n",
        "from zipfile import ZipFile\n",
        "import tarfile\n",
        "import shutil\n",
        "\n",
        "CHUNK_SIZE = 40960\n",
        "DATA_SOURCE_MAPPING = 'salary-data-prediction:https%3A%2F%2Fstorage.googleapis.com%2Fkaggle-data-sets%2F1228819%2F2051101%2Fbundle%2Farchive.zip%3FX-Goog-Algorithm%3DGOOG4-RSA-SHA256%26X-Goog-Credential%3Dgcp-kaggle-com%2540kaggle-161607.iam.gserviceaccount.com%252F20240401%252Fauto%252Fstorage%252Fgoog4_request%26X-Goog-Date%3D20240401T120006Z%26X-Goog-Expires%3D259200%26X-Goog-SignedHeaders%3Dhost%26X-Goog-Signature%3D65fc6fc696e39321bd710ce4a9592c8f49c26367c44cd427114ea8f633b89fe87a42b81f50c6cb9d4ca9c1a03b9f2414796156c8f9a44366ebfed47c68b5539bb341f4c8daf401b21e54375086ec4d693547e720c732c1b986cd5ee613082ef447f8eb51f1d12f40d8cb3f9b28e6d67c2b1b67d85549351f744a1a50091204d8e2b98311595c8ecf754cea97add4bffffd27a514caaf0b3028455cf3c73b1cb853e18499d2f247c83c24c9082e7e04e85af47b514972068086f357f14fc725ca10b1720393fca1790cfd885a65b75c725100bb656c8106fbca0aaf190d7bb23c6246ab9ebc61b02199bd8248373f2db6a6e5d526e939f5adcfd9b42bfd9d6c85'\n",
        "\n",
        "KAGGLE_INPUT_PATH='/kaggle/input'\n",
        "KAGGLE_WORKING_PATH='/kaggle/working'\n",
        "KAGGLE_SYMLINK='kaggle'\n",
        "\n",
        "!umount /kaggle/input/ 2> /dev/null\n",
        "shutil.rmtree('/kaggle/input', ignore_errors=True)\n",
        "os.makedirs(KAGGLE_INPUT_PATH, 0o777, exist_ok=True)\n",
        "os.makedirs(KAGGLE_WORKING_PATH, 0o777, exist_ok=True)\n",
        "\n",
        "try:\n",
        "  os.symlink(KAGGLE_INPUT_PATH, os.path.join(\"..\", 'input'), target_is_directory=True)\n",
        "except FileExistsError:\n",
        "  pass\n",
        "try:\n",
        "  os.symlink(KAGGLE_WORKING_PATH, os.path.join(\"..\", 'working'), target_is_directory=True)\n",
        "except FileExistsError:\n",
        "  pass\n",
        "\n",
        "for data_source_mapping in DATA_SOURCE_MAPPING.split(','):\n",
        "    directory, download_url_encoded = data_source_mapping.split(':')\n",
        "    download_url = unquote(download_url_encoded)\n",
        "    filename = urlparse(download_url).path\n",
        "    destination_path = os.path.join(KAGGLE_INPUT_PATH, directory)\n",
        "    try:\n",
        "        with urlopen(download_url) as fileres, NamedTemporaryFile() as tfile:\n",
        "            total_length = fileres.headers['content-length']\n",
        "            print(f'Downloading {directory}, {total_length} bytes compressed')\n",
        "            dl = 0\n",
        "            data = fileres.read(CHUNK_SIZE)\n",
        "            while len(data) > 0:\n",
        "                dl += len(data)\n",
        "                tfile.write(data)\n",
        "                done = int(50 * dl / int(total_length))\n",
        "                sys.stdout.write(f\"\\r[{'=' * done}{' ' * (50-done)}] {dl} bytes downloaded\")\n",
        "                sys.stdout.flush()\n",
        "                data = fileres.read(CHUNK_SIZE)\n",
        "            if filename.endswith('.zip'):\n",
        "              with ZipFile(tfile) as zfile:\n",
        "                zfile.extractall(destination_path)\n",
        "            else:\n",
        "              with tarfile.open(tfile.name) as tarfile:\n",
        "                tarfile.extractall(destination_path)\n",
        "            print(f'\\nDownloaded and uncompressed: {directory}')\n",
        "    except HTTPError as e:\n",
        "        print(f'Failed to load (likely expired) {download_url} to path {destination_path}')\n",
        "        continue\n",
        "    except OSError as e:\n",
        "        print(f'Failed to load {download_url} to path {destination_path}')\n",
        "        continue\n",
        "\n",
        "print('Data source import complete.')\n"
      ],
      "metadata": {
        "id": "2J-53bFSiAaY"
      },
      "cell_type": "code",
      "outputs": [],
      "execution_count": null
    },
    {
      "cell_type": "code",
      "source": [
        "#Importing libraries\n",
        "import pandas as pd\n",
        "import matplotlib.pyplot as plt\n",
        "import seaborn as sns\n",
        "import numpy as np"
      ],
      "metadata": {
        "execution": {
          "iopub.status.busy": "2024-04-01T11:59:12.70383Z",
          "iopub.execute_input": "2024-04-01T11:59:12.704485Z",
          "iopub.status.idle": "2024-04-01T11:59:14.056028Z",
          "shell.execute_reply.started": "2024-04-01T11:59:12.704333Z",
          "shell.execute_reply": "2024-04-01T11:59:14.054739Z"
        },
        "trusted": true,
        "id": "cP9DuLG4iAax"
      },
      "execution_count": null,
      "outputs": []
    },
    {
      "cell_type": "code",
      "source": [
        "#Reading dataset\n",
        "df=pd.read_csv('../input/salary-data-prediction/Salary_Data.csv')"
      ],
      "metadata": {
        "execution": {
          "iopub.status.busy": "2024-04-01T11:59:14.059721Z",
          "iopub.execute_input": "2024-04-01T11:59:14.060518Z",
          "iopub.status.idle": "2024-04-01T11:59:14.075118Z",
          "shell.execute_reply.started": "2024-04-01T11:59:14.060469Z",
          "shell.execute_reply": "2024-04-01T11:59:14.073802Z"
        },
        "trusted": true,
        "id": "jHPcfXRfiAa0"
      },
      "execution_count": null,
      "outputs": []
    },
    {
      "cell_type": "markdown",
      "source": [
        "***Viewing the dataset***"
      ],
      "metadata": {
        "id": "H1kJGosIiAa2"
      }
    },
    {
      "cell_type": "code",
      "source": [
        "df"
      ],
      "metadata": {
        "execution": {
          "iopub.status.busy": "2024-04-01T11:59:14.077Z",
          "iopub.execute_input": "2024-04-01T11:59:14.077485Z",
          "iopub.status.idle": "2024-04-01T11:59:14.106202Z",
          "shell.execute_reply.started": "2024-04-01T11:59:14.077437Z",
          "shell.execute_reply": "2024-04-01T11:59:14.1053Z"
        },
        "trusted": true,
        "id": "A7iFG8OhiAbA",
        "outputId": "1b51aa0e-6f11-40b5-b978-d1b98fb0ff36"
      },
      "execution_count": null,
      "outputs": [
        {
          "execution_count": 3,
          "output_type": "execute_result",
          "data": {
            "text/plain": "    YearsExperience    Salary\n0               1.1   39343.0\n1               1.3   46205.0\n2               1.5   37731.0\n3               2.0   43525.0\n4               2.2   39891.0\n5               2.9   56642.0\n6               3.0   60150.0\n7               3.2   54445.0\n8               3.2   64445.0\n9               3.7   57189.0\n10              3.9   63218.0\n11              4.0   55794.0\n12              4.0   56957.0\n13              4.1   57081.0\n14              4.5   61111.0\n15              4.9   67938.0\n16              5.1   66029.0\n17              5.3   83088.0\n18              5.9   81363.0\n19              6.0   93940.0\n20              6.8   91738.0\n21              7.1   98273.0\n22              7.9  101302.0\n23              8.2  113812.0\n24              8.7  109431.0\n25              9.0  105582.0\n26              9.5  116969.0\n27              9.6  112635.0\n28             10.3  122391.0\n29             10.5  121872.0",
            "text/html": "<div>\n<style scoped>\n    .dataframe tbody tr th:only-of-type {\n        vertical-align: middle;\n    }\n\n    .dataframe tbody tr th {\n        vertical-align: top;\n    }\n\n    .dataframe thead th {\n        text-align: right;\n    }\n</style>\n<table border=\"1\" class=\"dataframe\">\n  <thead>\n    <tr style=\"text-align: right;\">\n      <th></th>\n      <th>YearsExperience</th>\n      <th>Salary</th>\n    </tr>\n  </thead>\n  <tbody>\n    <tr>\n      <th>0</th>\n      <td>1.1</td>\n      <td>39343.0</td>\n    </tr>\n    <tr>\n      <th>1</th>\n      <td>1.3</td>\n      <td>46205.0</td>\n    </tr>\n    <tr>\n      <th>2</th>\n      <td>1.5</td>\n      <td>37731.0</td>\n    </tr>\n    <tr>\n      <th>3</th>\n      <td>2.0</td>\n      <td>43525.0</td>\n    </tr>\n    <tr>\n      <th>4</th>\n      <td>2.2</td>\n      <td>39891.0</td>\n    </tr>\n    <tr>\n      <th>5</th>\n      <td>2.9</td>\n      <td>56642.0</td>\n    </tr>\n    <tr>\n      <th>6</th>\n      <td>3.0</td>\n      <td>60150.0</td>\n    </tr>\n    <tr>\n      <th>7</th>\n      <td>3.2</td>\n      <td>54445.0</td>\n    </tr>\n    <tr>\n      <th>8</th>\n      <td>3.2</td>\n      <td>64445.0</td>\n    </tr>\n    <tr>\n      <th>9</th>\n      <td>3.7</td>\n      <td>57189.0</td>\n    </tr>\n    <tr>\n      <th>10</th>\n      <td>3.9</td>\n      <td>63218.0</td>\n    </tr>\n    <tr>\n      <th>11</th>\n      <td>4.0</td>\n      <td>55794.0</td>\n    </tr>\n    <tr>\n      <th>12</th>\n      <td>4.0</td>\n      <td>56957.0</td>\n    </tr>\n    <tr>\n      <th>13</th>\n      <td>4.1</td>\n      <td>57081.0</td>\n    </tr>\n    <tr>\n      <th>14</th>\n      <td>4.5</td>\n      <td>61111.0</td>\n    </tr>\n    <tr>\n      <th>15</th>\n      <td>4.9</td>\n      <td>67938.0</td>\n    </tr>\n    <tr>\n      <th>16</th>\n      <td>5.1</td>\n      <td>66029.0</td>\n    </tr>\n    <tr>\n      <th>17</th>\n      <td>5.3</td>\n      <td>83088.0</td>\n    </tr>\n    <tr>\n      <th>18</th>\n      <td>5.9</td>\n      <td>81363.0</td>\n    </tr>\n    <tr>\n      <th>19</th>\n      <td>6.0</td>\n      <td>93940.0</td>\n    </tr>\n    <tr>\n      <th>20</th>\n      <td>6.8</td>\n      <td>91738.0</td>\n    </tr>\n    <tr>\n      <th>21</th>\n      <td>7.1</td>\n      <td>98273.0</td>\n    </tr>\n    <tr>\n      <th>22</th>\n      <td>7.9</td>\n      <td>101302.0</td>\n    </tr>\n    <tr>\n      <th>23</th>\n      <td>8.2</td>\n      <td>113812.0</td>\n    </tr>\n    <tr>\n      <th>24</th>\n      <td>8.7</td>\n      <td>109431.0</td>\n    </tr>\n    <tr>\n      <th>25</th>\n      <td>9.0</td>\n      <td>105582.0</td>\n    </tr>\n    <tr>\n      <th>26</th>\n      <td>9.5</td>\n      <td>116969.0</td>\n    </tr>\n    <tr>\n      <th>27</th>\n      <td>9.6</td>\n      <td>112635.0</td>\n    </tr>\n    <tr>\n      <th>28</th>\n      <td>10.3</td>\n      <td>122391.0</td>\n    </tr>\n    <tr>\n      <th>29</th>\n      <td>10.5</td>\n      <td>121872.0</td>\n    </tr>\n  </tbody>\n</table>\n</div>"
          },
          "metadata": {}
        }
      ]
    },
    {
      "cell_type": "code",
      "source": [
        "df.info()"
      ],
      "metadata": {
        "execution": {
          "iopub.status.busy": "2024-04-01T11:59:14.109029Z",
          "iopub.execute_input": "2024-04-01T11:59:14.109728Z",
          "iopub.status.idle": "2024-04-01T11:59:14.138433Z",
          "shell.execute_reply.started": "2024-04-01T11:59:14.109665Z",
          "shell.execute_reply": "2024-04-01T11:59:14.136771Z"
        },
        "trusted": true,
        "id": "owgllJhAiAbF",
        "outputId": "78ba8083-b92e-4c00-d780-43fccce94e35"
      },
      "execution_count": null,
      "outputs": [
        {
          "name": "stdout",
          "text": "<class 'pandas.core.frame.DataFrame'>\nRangeIndex: 30 entries, 0 to 29\nData columns (total 2 columns):\n #   Column           Non-Null Count  Dtype  \n---  ------           --------------  -----  \n 0   YearsExperience  30 non-null     float64\n 1   Salary           30 non-null     float64\ndtypes: float64(2)\nmemory usage: 608.0 bytes\n",
          "output_type": "stream"
        }
      ]
    },
    {
      "cell_type": "code",
      "source": [
        "df.describe()"
      ],
      "metadata": {
        "execution": {
          "iopub.status.busy": "2024-04-01T11:59:14.139948Z",
          "iopub.execute_input": "2024-04-01T11:59:14.140536Z",
          "iopub.status.idle": "2024-04-01T11:59:14.169595Z",
          "shell.execute_reply.started": "2024-04-01T11:59:14.1405Z",
          "shell.execute_reply": "2024-04-01T11:59:14.168296Z"
        },
        "trusted": true,
        "id": "bDbQDnoSiAbH",
        "outputId": "e63da9a8-65b1-4fcd-a8cc-846d32e7ef11"
      },
      "execution_count": null,
      "outputs": [
        {
          "execution_count": 5,
          "output_type": "execute_result",
          "data": {
            "text/plain": "       YearsExperience         Salary\ncount        30.000000      30.000000\nmean          5.313333   76003.000000\nstd           2.837888   27414.429785\nmin           1.100000   37731.000000\n25%           3.200000   56720.750000\n50%           4.700000   65237.000000\n75%           7.700000  100544.750000\nmax          10.500000  122391.000000",
            "text/html": "<div>\n<style scoped>\n    .dataframe tbody tr th:only-of-type {\n        vertical-align: middle;\n    }\n\n    .dataframe tbody tr th {\n        vertical-align: top;\n    }\n\n    .dataframe thead th {\n        text-align: right;\n    }\n</style>\n<table border=\"1\" class=\"dataframe\">\n  <thead>\n    <tr style=\"text-align: right;\">\n      <th></th>\n      <th>YearsExperience</th>\n      <th>Salary</th>\n    </tr>\n  </thead>\n  <tbody>\n    <tr>\n      <th>count</th>\n      <td>30.000000</td>\n      <td>30.000000</td>\n    </tr>\n    <tr>\n      <th>mean</th>\n      <td>5.313333</td>\n      <td>76003.000000</td>\n    </tr>\n    <tr>\n      <th>std</th>\n      <td>2.837888</td>\n      <td>27414.429785</td>\n    </tr>\n    <tr>\n      <th>min</th>\n      <td>1.100000</td>\n      <td>37731.000000</td>\n    </tr>\n    <tr>\n      <th>25%</th>\n      <td>3.200000</td>\n      <td>56720.750000</td>\n    </tr>\n    <tr>\n      <th>50%</th>\n      <td>4.700000</td>\n      <td>65237.000000</td>\n    </tr>\n    <tr>\n      <th>75%</th>\n      <td>7.700000</td>\n      <td>100544.750000</td>\n    </tr>\n    <tr>\n      <th>max</th>\n      <td>10.500000</td>\n      <td>122391.000000</td>\n    </tr>\n  </tbody>\n</table>\n</div>"
          },
          "metadata": {}
        }
      ]
    },
    {
      "cell_type": "markdown",
      "source": [
        "***Visualization***"
      ],
      "metadata": {
        "id": "z1bFhIkIiAbJ"
      }
    },
    {
      "cell_type": "code",
      "source": [
        "#Showing how the variables are scattered\n",
        "plt.figure(figsize=(12,6))\n",
        "sns.pairplot(df,x_vars=['YearsExperience'],y_vars=['Salary'],size=7,kind='scatter')\n",
        "plt.xlabel('Years')\n",
        "plt.ylabel('Salary')"
      ],
      "metadata": {
        "execution": {
          "iopub.status.busy": "2024-04-01T11:59:14.17095Z",
          "iopub.execute_input": "2024-04-01T11:59:14.171407Z",
          "iopub.status.idle": "2024-04-01T11:59:14.588816Z",
          "shell.execute_reply.started": "2024-04-01T11:59:14.171374Z",
          "shell.execute_reply": "2024-04-01T11:59:14.587567Z"
        },
        "trusted": true,
        "id": "BH90vq3TiAbL",
        "outputId": "07f6a74c-7299-46e2-c101-c9b443219836"
      },
      "execution_count": null,
      "outputs": [
        {
          "name": "stderr",
          "text": "/opt/conda/lib/python3.7/site-packages/seaborn/axisgrid.py:2076: UserWarning: The `size` parameter has been renamed to `height`; please update your code.\n  warnings.warn(msg, UserWarning)\n",
          "output_type": "stream"
        },
        {
          "execution_count": 6,
          "output_type": "execute_result",
          "data": {
            "text/plain": "Text(-1.8350000000000009, 0.5, 'Salary')"
          },
          "metadata": {}
        },
        {
          "output_type": "display_data",
          "data": {
            "text/plain": "<Figure size 864x432 with 0 Axes>"
          },
          "metadata": {}
        },
        {
          "output_type": "display_data",
          "data": {
            "text/plain": "<Figure size 504x504 with 1 Axes>",
            "image/png": "[encoded data removed]"
          },
          "metadata": {
            "needs_background": "light"
          }
        }
      ]
    },
    {
      "cell_type": "code",
      "source": [
        "sns.distplot(df[\"Salary\"])"
      ],
      "metadata": {
        "execution": {
          "iopub.status.busy": "2024-04-01T11:59:14.590212Z",
          "iopub.execute_input": "2024-04-01T11:59:14.590598Z",
          "iopub.status.idle": "2024-04-01T11:59:14.811624Z",
          "shell.execute_reply.started": "2024-04-01T11:59:14.590563Z",
          "shell.execute_reply": "2024-04-01T11:59:14.810278Z"
        },
        "trusted": true,
        "id": "LyiKMp0wiAbN",
        "outputId": "3a5776eb-e4db-4665-e1f5-6fda6bc95681"
      },
      "execution_count": null,
      "outputs": [
        {
          "name": "stderr",
          "text": "/opt/conda/lib/python3.7/site-packages/seaborn/distributions.py:2619: FutureWarning: `distplot` is a deprecated function and will be removed in a future version. Please adapt your code to use either `displot` (a figure-level function with similar flexibility) or `histplot` (an axes-level function for histograms).\n  warnings.warn(msg, FutureWarning)\n",
          "output_type": "stream"
        },
        {
          "execution_count": 7,
          "output_type": "execute_result",
          "data": {
            "text/plain": "<AxesSubplot:xlabel='Salary', ylabel='Density'>"
          },
          "metadata": {}
        },
        {
          "output_type": "display_data",
          "data": {
            "text/plain": "<Figure size 432x288 with 1 Axes>",
            "image/png": "[encoded data removed]"
          },
          "metadata": {
            "needs_background": "light"
          }
        }
      ]
    },
    {
      "cell_type": "code",
      "source": [
        "#Showing a regression line\n",
        "sns.jointplot(x=\"YearsExperience\", y=\"Salary\", kind=\"reg\", data=df)"
      ],
      "metadata": {
        "execution": {
          "iopub.status.busy": "2024-04-01T11:59:14.813057Z",
          "iopub.execute_input": "2024-04-01T11:59:14.813411Z",
          "iopub.status.idle": "2024-04-01T11:59:15.367463Z",
          "shell.execute_reply.started": "2024-04-01T11:59:14.813379Z",
          "shell.execute_reply": "2024-04-01T11:59:15.36601Z"
        },
        "trusted": true,
        "id": "sz-B38CSiAbP",
        "outputId": "1753381d-3c9f-4ad6-8190-805ab634d24e"
      },
      "execution_count": null,
      "outputs": [
        {
          "execution_count": 8,
          "output_type": "execute_result",
          "data": {
            "text/plain": "<seaborn.axisgrid.JointGrid at 0x7a86702ba910>"
          },
          "metadata": {}
        },
        {
          "output_type": "display_data",
          "data": {
            "text/plain": "<Figure size 432x432 with 3 Axes>",
            "image/png": "[encoded data removed]"
          },
          "metadata": {
            "needs_background": "light"
          }
        }
      ]
    },
    {
      "cell_type": "code",
      "source": [
        "#Checking for null values\n",
        "df.isnull().sum()"
      ],
      "metadata": {
        "execution": {
          "iopub.status.busy": "2024-04-01T11:59:15.369769Z",
          "iopub.execute_input": "2024-04-01T11:59:15.370277Z",
          "iopub.status.idle": "2024-04-01T11:59:15.381577Z",
          "shell.execute_reply.started": "2024-04-01T11:59:15.370226Z",
          "shell.execute_reply": "2024-04-01T11:59:15.380331Z"
        },
        "trusted": true,
        "id": "VvZS_ONriAbR",
        "outputId": "2611a159-76b6-4dc4-bf22-b1309e8a11db"
      },
      "execution_count": null,
      "outputs": [
        {
          "execution_count": 9,
          "output_type": "execute_result",
          "data": {
            "text/plain": "YearsExperience    0\nSalary             0\ndtype: int64"
          },
          "metadata": {}
        }
      ]
    },
    {
      "cell_type": "markdown",
      "source": [
        "***Defining X data & Y data***"
      ],
      "metadata": {
        "id": "kEi4BrJziAbS"
      }
    },
    {
      "cell_type": "code",
      "source": [
        "X=df['YearsExperience']\n",
        "Y=df['Salary']"
      ],
      "metadata": {
        "execution": {
          "iopub.status.busy": "2024-04-01T11:59:15.387941Z",
          "iopub.execute_input": "2024-04-01T11:59:15.38842Z",
          "iopub.status.idle": "2024-04-01T11:59:15.394508Z",
          "shell.execute_reply.started": "2024-04-01T11:59:15.388382Z",
          "shell.execute_reply": "2024-04-01T11:59:15.393032Z"
        },
        "trusted": true,
        "id": "eQSR9vIxiAbU"
      },
      "execution_count": null,
      "outputs": []
    },
    {
      "cell_type": "markdown",
      "source": [
        "# ***Simple Linear Regression***"
      ],
      "metadata": {
        "id": "KKFBPA7MiAbV"
      }
    },
    {
      "cell_type": "code",
      "source": [
        "#Importing segregating data from scikit learn\n",
        "from sklearn.model_selection import train_test_split"
      ],
      "metadata": {
        "execution": {
          "iopub.status.busy": "2024-04-01T11:59:15.396177Z",
          "iopub.execute_input": "2024-04-01T11:59:15.396604Z",
          "iopub.status.idle": "2024-04-01T11:59:15.622175Z",
          "shell.execute_reply.started": "2024-04-01T11:59:15.396569Z",
          "shell.execute_reply": "2024-04-01T11:59:15.621144Z"
        },
        "trusted": true,
        "id": "te9shn1DiAbW"
      },
      "execution_count": null,
      "outputs": []
    },
    {
      "cell_type": "code",
      "source": [
        "#Splitting the data for train and test\n",
        "X_train,X_test,y_train,y_test = train_test_split(X,Y, train_size=0.7,random_state=100)"
      ],
      "metadata": {
        "execution": {
          "iopub.status.busy": "2024-04-01T11:59:15.623407Z",
          "iopub.execute_input": "2024-04-01T11:59:15.624126Z",
          "iopub.status.idle": "2024-04-01T11:59:15.631458Z",
          "shell.execute_reply.started": "2024-04-01T11:59:15.62409Z",
          "shell.execute_reply": "2024-04-01T11:59:15.630502Z"
        },
        "trusted": true,
        "id": "wNbJ9ykRiAbX"
      },
      "execution_count": null,
      "outputs": []
    },
    {
      "cell_type": "code",
      "source": [
        "#Create new axis for x column\n",
        "X_train = X_train[:,np.newaxis]\n",
        "X_test = X_test[:,np.newaxis]"
      ],
      "metadata": {
        "execution": {
          "iopub.status.busy": "2024-04-01T11:59:15.632925Z",
          "iopub.execute_input": "2024-04-01T11:59:15.633581Z",
          "iopub.status.idle": "2024-04-01T11:59:15.643447Z",
          "shell.execute_reply.started": "2024-04-01T11:59:15.633547Z",
          "shell.execute_reply": "2024-04-01T11:59:15.642057Z"
        },
        "trusted": true,
        "id": "fXRn6pneiAbY",
        "outputId": "51c23601-e1c5-477a-bc65-77f8cffc6ebb"
      },
      "execution_count": null,
      "outputs": [
        {
          "name": "stderr",
          "text": "/opt/conda/lib/python3.7/site-packages/ipykernel_launcher.py:2: FutureWarning: Support for multi-dimensional indexing (e.g. `obj[:, None]`) is deprecated and will be removed in a future version.  Convert to a numpy array before indexing instead.\n  \n/opt/conda/lib/python3.7/site-packages/ipykernel_launcher.py:3: FutureWarning: Support for multi-dimensional indexing (e.g. `obj[:, None]`) is deprecated and will be removed in a future version.  Convert to a numpy array before indexing instead.\n  This is separate from the ipykernel package so we can avoid doing imports until\n",
          "output_type": "stream"
        }
      ]
    },
    {
      "cell_type": "code",
      "source": [
        "#Importing the model\n",
        "from sklearn.linear_model import LinearRegression"
      ],
      "metadata": {
        "execution": {
          "iopub.status.busy": "2024-04-01T11:59:15.64514Z",
          "iopub.execute_input": "2024-04-01T11:59:15.645614Z",
          "iopub.status.idle": "2024-04-01T11:59:15.740655Z",
          "shell.execute_reply.started": "2024-04-01T11:59:15.645565Z",
          "shell.execute_reply": "2024-04-01T11:59:15.739404Z"
        },
        "trusted": true,
        "id": "r0XWeSAyiAbZ"
      },
      "execution_count": null,
      "outputs": []
    },
    {
      "cell_type": "code",
      "source": [
        "#Fitting data to the model\n",
        "lr = LinearRegression()\n",
        "lr.fit(X_train,y_train)"
      ],
      "metadata": {
        "execution": {
          "iopub.status.busy": "2024-04-01T11:59:15.742256Z",
          "iopub.execute_input": "2024-04-01T11:59:15.743609Z",
          "iopub.status.idle": "2024-04-01T11:59:15.762858Z",
          "shell.execute_reply.started": "2024-04-01T11:59:15.743554Z",
          "shell.execute_reply": "2024-04-01T11:59:15.761263Z"
        },
        "trusted": true,
        "id": "blNk1ORriAba",
        "outputId": "c0fdae41-c29d-42d4-bba0-8844fce96721"
      },
      "execution_count": null,
      "outputs": [
        {
          "execution_count": 15,
          "output_type": "execute_result",
          "data": {
            "text/plain": "LinearRegression()"
          },
          "metadata": {}
        }
      ]
    },
    {
      "cell_type": "code",
      "source": [
        "#Predicting the Salary for the test values\n",
        "y_predict = lr.predict(X_test)\n",
        "y_predict"
      ],
      "metadata": {
        "execution": {
          "iopub.status.busy": "2024-04-01T11:59:15.76675Z",
          "iopub.execute_input": "2024-04-01T11:59:15.767258Z",
          "iopub.status.idle": "2024-04-01T11:59:15.77641Z",
          "shell.execute_reply.started": "2024-04-01T11:59:15.767214Z",
          "shell.execute_reply": "2024-04-01T11:59:15.774945Z"
        },
        "trusted": true,
        "id": "LDHtexi9iAbb",
        "outputId": "936e4fb9-91db-4be3-e8d1-f42da7d5aade"
      },
      "execution_count": null,
      "outputs": [
        {
          "execution_count": 16,
          "output_type": "execute_result",
          "data": {
            "text/plain": "array([ 61208.34198766, 117649.32424949, 125434.28732008,  65100.82352296,\n        53423.37891707,  64127.70313914, 118622.44463331, 112783.72233036,\n        54396.49930089])"
          },
          "metadata": {}
        }
      ]
    },
    {
      "cell_type": "markdown",
      "source": [
        "***Let,s check this with an example.\n",
        "Assume that an employee has 3.4 years of experience and we want to predict salary.***"
      ],
      "metadata": {
        "id": "JnxaUkdBiAbc"
      }
    },
    {
      "cell_type": "code",
      "source": [
        "lr.predict([[3.4]])"
      ],
      "metadata": {
        "execution": {
          "iopub.status.busy": "2024-04-01T11:59:15.778034Z",
          "iopub.execute_input": "2024-04-01T11:59:15.779045Z",
          "iopub.status.idle": "2024-04-01T11:59:15.789003Z",
          "shell.execute_reply.started": "2024-04-01T11:59:15.779003Z",
          "shell.execute_reply": "2024-04-01T11:59:15.787783Z"
        },
        "trusted": true,
        "id": "FdLhF1eIiAbd",
        "outputId": "43cb52ae-77e2-4675-e327-0ab4df06c78d"
      },
      "execution_count": null,
      "outputs": [
        {
          "execution_count": 17,
          "output_type": "execute_result",
          "data": {
            "text/plain": "array([58288.98083619])"
          },
          "metadata": {}
        }
      ]
    },
    {
      "cell_type": "markdown",
      "source": [
        "*The predicted salary for an employee with 3.4 years is approximately 58289.*"
      ],
      "metadata": {
        "id": "PPZhpfJ-iAbe"
      }
    },
    {
      "cell_type": "markdown",
      "source": [
        "**Analyzing the prediction**"
      ],
      "metadata": {
        "id": "LJSJEtLwiAbf"
      }
    },
    {
      "cell_type": "code",
      "source": [
        "#Plotting the actual and predicted values\n",
        "c = [i for i in range (1,len(y_test)+1,1)]\n",
        "plt.plot(c,y_test,color='r',linestyle='-')\n",
        "plt.plot(c,y_predict,color='b',linestyle='-')\n",
        "plt.xlabel('Salary')\n",
        "plt.ylabel('index')\n",
        "plt.title('Actual vs. Predicted')"
      ],
      "metadata": {
        "execution": {
          "iopub.status.busy": "2024-04-01T11:59:15.790718Z",
          "iopub.execute_input": "2024-04-01T11:59:15.791134Z",
          "iopub.status.idle": "2024-04-01T11:59:16.039794Z",
          "shell.execute_reply.started": "2024-04-01T11:59:15.79107Z",
          "shell.execute_reply": "2024-04-01T11:59:16.038292Z"
        },
        "trusted": true,
        "id": "-fDxvVgCiAbh",
        "outputId": "05c90311-d212-40d5-c409-0c54f0a9062c"
      },
      "execution_count": null,
      "outputs": [
        {
          "execution_count": 18,
          "output_type": "execute_result",
          "data": {
            "text/plain": "Text(0.5, 1.0, 'Actual vs. Predicted')"
          },
          "metadata": {}
        },
        {
          "output_type": "display_data",
          "data": {
            "text/plain": "<Figure size 432x288 with 1 Axes>",
            "image/png": "[encoded data removed]"
          },
          "metadata": {
            "needs_background": "light"
          }
        }
      ]
    },
    {
      "cell_type": "code",
      "source": [
        "#Plotting the error\n",
        "c = [i for i in range(1,len(y_test)+1,1)]\n",
        "plt.plot(c,y_test-y_predict,color='green',linestyle='-')\n",
        "plt.xlabel('index')\n",
        "plt.ylabel('Error')\n",
        "plt.title('Error Value')"
      ],
      "metadata": {
        "execution": {
          "iopub.status.busy": "2024-04-01T11:59:16.041563Z",
          "iopub.execute_input": "2024-04-01T11:59:16.042072Z",
          "iopub.status.idle": "2024-04-01T11:59:16.293732Z",
          "shell.execute_reply.started": "2024-04-01T11:59:16.042012Z",
          "shell.execute_reply": "2024-04-01T11:59:16.292292Z"
        },
        "trusted": true,
        "id": "ggX9xvG5iAbk",
        "outputId": "cf84922b-73f2-4a5f-f8d6-d40c0672ca1f"
      },
      "execution_count": null,
      "outputs": [
        {
          "execution_count": 19,
          "output_type": "execute_result",
          "data": {
            "text/plain": "Text(0.5, 1.0, 'Error Value')"
          },
          "metadata": {}
        },
        {
          "output_type": "display_data",
          "data": {
            "text/plain": "<Figure size 432x288 with 1 Axes>",
            "image/png": "[encoded data removed]"
          },
          "metadata": {
            "needs_background": "light"
          }
        }
      ]
    },
    {
      "cell_type": "code",
      "source": [
        "#Intercept and coeff of the line\n",
        "print('Intercept of the model:',lr.intercept_)\n",
        "print('Coefficient of the line:',lr.coef_)"
      ],
      "metadata": {
        "execution": {
          "iopub.status.busy": "2024-04-01T11:59:16.295549Z",
          "iopub.execute_input": "2024-04-01T11:59:16.296061Z",
          "iopub.status.idle": "2024-04-01T11:59:16.303837Z",
          "shell.execute_reply.started": "2024-04-01T11:59:16.296013Z",
          "shell.execute_reply": "2024-04-01T11:59:16.302183Z"
        },
        "trusted": true,
        "id": "JfgXxp3jiAbl",
        "outputId": "bdeb2878-3e5e-426b-bd27-f3fc3e20479b"
      },
      "execution_count": null,
      "outputs": [
        {
          "name": "stdout",
          "text": "Intercept of the model: 25202.887786154883\nCoefficient of the line: [9731.20383825]\n",
          "output_type": "stream"
        }
      ]
    },
    {
      "cell_type": "markdown",
      "source": [
        "# Then it is said to form a line with\n",
        "# y = 25202.8 + 9731.2x"
      ],
      "metadata": {
        "id": "MopYiJSdiAbm"
      }
    }
  ]
}